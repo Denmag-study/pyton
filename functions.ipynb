{
 "cells": [
  {
   "cell_type": "markdown",
   "metadata": {},
   "source": [
    "\n",
    "Домашнее задание к лекции \"Функции\"\n",
    "Вам нужно помочь секретарю автоматизировать работу. Для этого нужно написать программу, которая будет на основе хранимых данных исполнять пользовательские команды.\n",
    "\n",
    "Исходные данные имеют следующую структуру:\n",
    "\n",
    "перечень всех документов\n",
    "documents = [\n",
    " {'type': 'passport', 'number': '2207 876234', 'name': 'Василий Гупкин'},\n",
    " {'type': 'invoice', 'number': '11-2', 'name': 'Геннадий Покемонов'},\n",
    " {'type': 'insurance', 'number': '10006', 'name': 'Аристарх Павлов'}\n",
    "]\n",
    "перечень полок, на которых хранятся документы (если документ есть в documents, то он обязательно должен быть и в directories)\n",
    "directories = {\n",
    " '1': ['2207 876234', '11-2'],\n",
    " '2': ['10006'],\n",
    " '3': []\n",
    "}\n",
    "Общие требования к программе:\n",
    "\n",
    "код должен быть грамотно декомпозирован (каждая функция отвечает за свою конкретную задачу, дублирующийся функционал переиспользуется, а его код не повторяется);\n",
    "в коде отсутствуют глобальные переменные (за исключением documents и directories);\n",
    "пользовательский ввод обрабатывается в цикле while до тех пор, пока пользователь явно не завершит программу (вводом команды \"q\")."
   ]
  },
  {
   "cell_type": "code",
   "execution_count": null,
   "metadata": {},
   "outputs": [],
   "source": [
    "\n",
    "documents = [\n",
    "        {\"type\": \"passport\", \"number\": \"2207 876234\", \"name\": \"Василий Гупкин\"},\n",
    "        {\"type\": \"invoice\", \"number\": \"11-211\", \"name\": \"Геннадий Покемонов\"},\n",
    "        {\"type\": \"insurance\", \"number\": \"10006\", \"name\": \"Аристарх Павлов\"}\n",
    "      ]\n",
    "\n",
    "directories = {\n",
    "        '1': ['2207 876234', '11-2'],\n",
    "        '2': ['10006'],\n",
    "        '3': []\n",
    "      }\n",
    "\n",
    "def people(numbers):\n",
    "  for doc_numbers in documents:\n",
    "    if doc_numbers[\"number\"] == numbers:\n",
    "      print(doc_numbers[\"name\"])\n",
    "      break\n",
    "  else:\n",
    "    print('Такого номера документа нет в базе.')\n",
    "\n",
    "def people_list():\n",
    "  for persons in documents:\n",
    "    print(persons['type'], '\"'+persons['number']+'\"', '\"'+persons['name']+'\"')\n",
    "    \n",
    "def shelf(numbers):\n",
    "  break_marker = False\n",
    "  for shelf_directories in directories.items():\n",
    "    for doc_numbers in shelf_directories[1]:\n",
    "      if doc_numbers == numbers:\n",
    "        print('Данный документ должен лежать на полке', shelf_directories[0])\n",
    "        break_marker = True\n",
    "        break\n",
    "    if break_marker == True:\n",
    "      break\n",
    "  else:\n",
    "    print('Такого номера документа нет в базе.')\n",
    "    \n",
    "def add_command(params_type, number, name, directories_number):\n",
    "  if int(directories_number) == 1 or int(directories_number) == 2 or int(directories_number) == 3:\n",
    "    documents.append({\"type\": params_type, \"number\": number, \"name\": name})\n",
    "    directories[directories_number].append(number)\n",
    "  else:\n",
    "    print('Введенной полки не существует. Запись не осуществлена.')\n",
    "  \n",
    "      \n",
    "      \n",
    "while True:\n",
    "  command = input('\\n \\\n",
    "  Введите одну из команд: p, l, s, ad. \\n \\\n",
    "  Для выхода наберите exit. \\n \\\n",
    "  Для вызов справки наберите help. \\n \\\n",
    "  Ваша команда: ')\n",
    "  if command == 'p':\n",
    "    people(input('\\nВведите номер документа:'))\n",
    "  elif command == 'l':\n",
    "    people_list()\n",
    "  elif command == 's':\n",
    "    shelf(input('\\nВведите номер документа:'))\n",
    "  elif command == 'ad':\n",
    "    add_command(input('\\nВведите тип документа:'), input('Введите номер документа:'), input('Введите имя:'), input('Введите номер полки (1, 2, 3):'))\n",
    "  elif command == 'exit':\n",
    "    break\n",
    "  elif command == 'help':\n",
    "    print('\\n \\\n",
    "    p – people – команда, которая спросит номер документа и выведет имя человека, которому он принадлежит;\\n \\\n",
    "    l – list – команда, которая выведет список всех документов в формате passport \"2207 876234\" \"Василий Гупкин\";\\n \\\n",
    "    s – shelf – команда, которая спросит номер документа и выведет номер полки, на которой он находится;\\n \\\n",
    "    a – add – команда, которая добавит новый документ в каталог и в перечень полок, спросив его номер, тип, имя владельца и номер полки, на котором он будет храниться.')\n",
    "  else:\n",
    "    print('Вы ввели некорректную команду, повторите ввод.')"
   ]
  },
  {
   "cell_type": "markdown",
   "metadata": {},
   "source": []
  },
  {
   "cell_type": "markdown",
   "metadata": {},
   "source": [
    "\n"
   ]
  },
  {
   "cell_type": "code",
   "execution_count": null,
   "metadata": {},
   "outputs": [],
   "source": [
    "d"
   ]
  }
 ],
 "metadata": {
  "kernelspec": {
   "display_name": "Python 3",
   "language": "python",
   "name": "python3"
  },
  "language_info": {
   "codemirror_mode": {
    "name": "ipython",
    "version": 3
   },
   "file_extension": ".py",
   "mimetype": "text/x-python",
   "name": "python",
   "nbconvert_exporter": "python",
   "pygments_lexer": "ipython3",
   "version": "3.7.6"
  }
 },
 "nbformat": 4,
 "nbformat_minor": 2
}
