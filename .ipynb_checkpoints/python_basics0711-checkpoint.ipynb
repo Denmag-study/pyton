{
 "cells": [
  {
   "cell_type": "markdown",
   "metadata": {},
   "source": [
    "**Задание 1**. Даны 2 переменных, в которых хранятся строки произвольной длины: phrase_1 и phrase_2.\n",
    "Напишите код, который проверяет какая из этих строк длиннее"
   ]
  },
  {
   "cell_type": "code",
   "execution_count": 6,
   "metadata": {},
   "outputs": [
    {
     "name": "stdout",
     "output_type": "stream",
     "text": [
      "Фраза 1 длиннее фразы 2\n"
     ]
    }
   ],
   "source": [
    "long_phrase = 'Насколько проще было бы писать программы, если бы не заказчики'\n",
    "short_phrase = '640Кб должно хватить для любых задач. Билл Гейтс (по легенде)'\n",
    "if len(long_phrase) > len(short_phrase):\n",
    "    print (\"Фраза 1 длиннее фразы 2\")\n",
    "elif len(long_phrase) < len(short_phrase):\n",
    "    print (\"Фраза 2 длиннее фразы 1\")\n",
    "else:\n",
    "    print (\"Фразы равной длинны\")"
   ]
  },
  {
   "cell_type": "markdown",
   "metadata": {},
   "source": [
    "**Задание 2**. Надо написать программу определяющую висококсный ли год или нет."
   ]
  },
  {
   "cell_type": "code",
   "execution_count": null,
   "metadata": {},
   "outputs": [],
   "source": [
    "x = int(input('Введите год '))\n",
    "y = x % 400\n",
    "c = x % 4\n",
    "d = x % 100\n",
    "if (y == 0):\n",
    "    print ('Високосный год')\n",
    "elif (d == 0):\n",
    "    print('Не високосный год')\n",
    "elif (c == 0):\n",
    "    print ('Високосный год')\n",
    "else:\n",
    "    print('Не високосный год') "
   ]
  },
  {
   "cell_type": "markdown",
   "metadata": {},
   "source": [
    "**Задание 3**. Разработать приложение для определения знака зодиака по дате рождения. Пример:\n",
    "\n",
    "Введите месяц: март\n",
    "\n",
    "Введите число: 6\n",
    "\n",
    "Вывод:\n",
    "Рыбы"
   ]
  },
  {
   "cell_type": "code",
   "execution_count": 10,
   "metadata": {},
   "outputs": [
    {
     "name": "stdout",
     "output_type": "stream",
     "text": [
      "Введите месяц рождения: март\n",
      "Введите день рождения: 4\n",
      "Вывод: Рыбы\n"
     ]
    }
   ],
   "source": [
    "month = input('Введите месяц рождения: ')\n",
    "date = int(input('Введите день рождения: '))\n",
    "if (1 <= date <= 20 and month == 'апрель') or (31 >=  date >= 20 and month == 'март'):\n",
    "        print ('Вывод: Овен')\n",
    "elif (21 <= date <= 31 and month == 'апрель') or (20 >=  date >= 1 and month == 'май'):\n",
    "        print ('Вывод: Телец')\n",
    "elif (21 <= date <= 31 and month == 'май') or (21 >=  date >= 1 and month == 'июнь'):\n",
    "        print ('Вывод: Близнецы')\n",
    "elif (22 <= date <= 30 and month == 'июнь') or (22 >=  date >= 1 and month == 'июль'):\n",
    "        print ('Вывод: Рак')\n",
    "elif (23 <= date <= 31 and month == 'июль') or (22 >=  date >= 1 and month == 'август'):\n",
    "        print ('Вывод: Лев')\n",
    "elif (23 <= date <= 31 and month == 'август') or (22 >=  date >= 1 and month == 'сентябрь'):\n",
    "        print ('Вывод: Дева')\n",
    "elif (23 <= date <= 30 and month == 'сентябрь') or (23 >=  date >= 1 and month == 'октябрь'):\n",
    "        print ('Вывод: Весы')\n",
    "elif (24 <= date <= 31 and month == 'октябрь') or (22 >=  date >= 1 and month == 'ноябрь'):\n",
    "        print ('Вывод: Скорпион')\n",
    "elif (23 <= date <= 30 and month == 'ноябрь') or (21 >=  date >= 1 and month == 'декабрь'):\n",
    "        print ('Вывод: Стрелец')\n",
    "elif (22 <= date <= 31 and month == 'декабрь') or (20 >=  date >= 1 and month == 'январь'):\n",
    "        print ('Вывод: Козерог')\n",
    "elif (21 <= date <= 31 and month == 'январь') or (18 >=  date >= 1 and month == 'февраль'):\n",
    "        print ('Вывод: Водолей')\n",
    "elif (19 <= date <= 29 and month == 'февраль') or (20 >=  date >= 1 and month == 'март'):\n",
    "        print ('Вывод: Рыбы')\n",
    "else:\n",
    "        print ('Некорректный день')"
   ]
  },
  {
   "cell_type": "markdown",
   "metadata": {},
   "source": [
    "**Задание 4**\n",
    "Необходим скрипт для подбора упаковок по размерам товара. Используйте следующие правила:\n",
    "- если ширина, длина и высота менее 15 сантиметров, то выведите на экран \"Коробка №1\"\n",
    "- если хотя бы один из габаритов больше 15см, но менее 50см, то выводите \"Коробка №2\"\n",
    "- если длина товара больше 2 метров, то вывести \"ищите упаковку для лыж\"\n",
    "- во всех остальных случаях пишите \"Стандартная коробка №3\""
   ]
  },
  {
   "cell_type": "code",
   "execution_count": 30,
   "metadata": {},
   "outputs": [
    {
     "name": "stdout",
     "output_type": "stream",
     "text": [
      "Введите ширину45\n",
      "Введите длинну205\n",
      "Введите высоту45\n",
      "ищи упаковку для лыж\n"
     ]
    }
   ],
   "source": [
    "user_width = int(input('Введите ширину'))\n",
    "user_length = int(input('Введите длинну'))\n",
    "user_height = int(input('Введите высоту'))\n",
    "\n",
    "if (user_width < 15) and (user_length < 15) and (user_height < 15):\n",
    "    print (\"Коробка №1\")\n",
    "elif user_length > 200:\n",
    "    print (\"ищи упаковку для лыж\")\n",
    "elif (15 < user_width < 50) and (15 < user_length < 50) and (15 < user_height < 50):\n",
    "    print (\"Коробка 2\")\n",
    "else: print ('Стандартная упаковон')"
   ]
  },
  {
   "cell_type": "code",
   "execution_count": null,
   "metadata": {},
   "outputs": [],
   "source": []
  },
  {
   "cell_type": "code",
   "execution_count": null,
   "metadata": {},
   "outputs": [],
   "source": []
  }
 ],
 "metadata": {
  "kernelspec": {
   "display_name": "Python 3",
   "language": "python",
   "name": "python3"
  },
  "language_info": {
   "codemirror_mode": {
    "name": "ipython",
    "version": 3
   },
   "file_extension": ".py",
   "mimetype": "text/x-python",
   "name": "python",
   "nbconvert_exporter": "python",
   "pygments_lexer": "ipython3",
   "version": "3.7.6"
  }
 },
 "nbformat": 4,
 "nbformat_minor": 2
}
