{
 "cells": [
  {
   "cell_type": "markdown",
   "metadata": {},
   "source": [
    "**Задание 1**. Даны 2 строки: *long_phrase* и *short_phrase*. \n",
    "Напишите код, который проверяет действительно ли длинная фраза *long_phrase* длиннее короткой *short_phrase*. И выводит *True* или *False* в зависимости от результата сравнения."
   ]
  },
  {
   "cell_type": "code",
   "execution_count": 2,
   "metadata": {},
   "outputs": [],
   "source": [
    "long_phrase = 'Насколько проще было бы писать программы, если бы не заказчики'\n",
    "short_phrase = '640Кб должно хватить для любых задач. Билл Гейтс (по легенде)'"
   ]
  },
  {
   "cell_type": "code",
   "execution_count": 3,
   "metadata": {},
   "outputs": [
    {
     "name": "stdout",
     "output_type": "stream",
     "text": [
      "True\n"
     ]
    }
   ],
   "source": [
    "print (long_phrase > short_phrase)"
   ]
  },
  {
   "cell_type": "markdown",
   "metadata": {},
   "source": [
    "**Задание 2**. Дано значение объема файла в байтах (*в мегабайте 2^20 байт*). Напишите перевод этого значения в мегабайты в формате: \"*Объем файла равен 213.68Mb*\"."
   ]
  },
  {
   "cell_type": "code",
   "execution_count": 25,
   "metadata": {},
   "outputs": [
    {
     "name": "stdout",
     "output_type": "stream",
     "text": [
      "Введите объем файла в байтах 20\n",
      "Объем файла равен 60 Mb\n"
     ]
    }
   ],
   "source": [
    "x = int(input('Введите объем файла в байтах '))\n",
    "y = x*2^20\n",
    "print (\"Объем файла равен\" , y , \"Mb\")"
   ]
  },
  {
   "cell_type": "markdown",
   "metadata": {},
   "source": [
    "**Задание 3**. Разработать приложение для определения знака зодиака по дате рождения. Пример:\n",
    "\n",
    "Введите месяц: март\n",
    "\n",
    "Введите число: 6\n",
    "\n",
    "Вывод:\n",
    "Рыбы"
   ]
  },
  {
   "cell_type": "code",
   "execution_count": 24,
   "metadata": {},
   "outputs": [
    {
     "name": "stdout",
     "output_type": "stream",
     "text": [
      "Введите месяц рождения: ноябрь\n",
      "Введите день рождения: 5\n",
      "Вывод: Скорпионушка, прям как ПО\n"
     ]
    }
   ],
   "source": [
    "month = input('Введите месяц рождения: ')\n",
    "date = int(input('Введите день рождения: '))\n",
    "if (1 =< date <= 20 and month == 'апрель') or (31 >=  date > 20 and month == 'март'):\n",
    "        print ('Вывод: Овен')\n",
    "elif (21 <= date <= 31 and month == 'апрель') or (20 >=  date >= 1 and month == 'май'):\n",
    "        print ('Вывод: Телец')\n",
    "elif (21 <= date <= 31 and month == 'май') or (21 >=  date >= 1 and month == 'июнь'):\n",
    "        print ('Вывод: Близнецы')\n",
    "elif (22 <= date <= 30 and month == 'июнь') or (22 >=  date >= 1 and month == 'июль'):\n",
    "        print ('Вывод: Рак')\n",
    "elif (23 <= date <= 31 and month == 'июль') or (22 >=  date >= 1 and month == 'август'):\n",
    "        print ('Вывод: Лев')\n",
    "elif (23 <= date <= 31 and month == 'август') or (22 >=  date >= 1 and month == 'сентябрь'):\n",
    "        print ('Вывод: Дева')\n",
    "elif (23 <= date <= 30 and month == 'сентябрь') or (23 >=  date >= 1 and month == 'октябрь'):\n",
    "        print ('Вывод: Весы')\n",
    "elif (24 <= date <= 31 and month == 'октябрь') or (22 >=  date >= 1 and month == 'ноябрь'):\n",
    "        print ('Вывод: Скорпион')\n",
    "elif (23 <= date <= 30 and month == 'ноябрь') or (21 >=  date >= 1 and month == 'декабрь'):\n",
    "        print ('Вывод: Стрелец')\n",
    "elif (22 <= date <= 31 and month == 'декабрь') or (20 >=  date >= 1 and month == 'январь'):\n",
    "        print ('Вывод: Козерог')\n",
    "elif (21 <= date <= 31 and month == 'январь') or (18 >=  date >= 1 and month == 'февраль'):\n",
    "        print ('Вывод: Водолей')\n",
    "elif (19 <= date <= 29 and month == 'февраль') or (20 >=  date >= 1 and month == 'март'):\n",
    "        print ('Вывод: Рыбы')\n",
    "else:\n",
    "        print ('Некорректный день')"
   ]
  },
  {
   "cell_type": "markdown",
   "metadata": {},
   "source": [
    "Задание 4\n",
    "Необходим скрипт для подбора упаковок по размерам товара. Используйте следующие правила:\n",
    "- если ширина, длина и высота менее 15 сантиметров, то выведите на экран \"Коробка №1\"\n",
    "- если хотя бы один из габаритов больше 15см, но менее 50см, то выводите \"Коробка №2\"\n",
    "- если длина товара больше 2 метров, то вывести \"ищите упаковку для лыж\"\n",
    "- во всех остальных случаях пишите \"Стандартная коробка №3\""
   ]
  },
  {
   "cell_type": "code",
   "execution_count": null,
   "metadata": {},
   "outputs": [],
   "source": [
    "user_width = input('Введите ширину')\n",
    "user_length = input('Введите длинну')\n",
    "user_height = input('Введите высоту')\n",
    "\n",
    "if user_width < 15 and user_length < 15 and user_height < 15:\n",
    "    print(\"Коробка №1\")\n",
    "elif 15 < user_width < 50 or 15 < user_length < 50 or 15 < user_height < 50:\n",
    "    print(\"Коробка 2\")\n",
    "elif user_height > 2000:\n",
    "    print(\"ищи упаковку для лыж\")\n",
    "else: print('Стандартная упаковон')"
   ]
  },
  {
   "cell_type": "code",
   "execution_count": null,
   "metadata": {},
   "outputs": [],
   "source": []
  }
 ],
 "metadata": {
  "kernelspec": {
   "display_name": "Python 3",
   "language": "python",
   "name": "python3"
  },
  "language_info": {
   "codemirror_mode": {
    "name": "ipython",
    "version": 3
   },
   "file_extension": ".py",
   "mimetype": "text/x-python",
   "name": "python",
   "nbconvert_exporter": "python",
   "pygments_lexer": "ipython3",
   "version": "3.7.6"
  }
 },
 "nbformat": 4,
 "nbformat_minor": 2
}
