{
 "cells": [
  {
   "cell_type": "markdown",
   "metadata": {},
   "source": [
    "**Задание 1**. Даны 2 строки: *long_phrase* и *short_phrase*. \n",
    "Напишите код, который проверяет действительно ли длинная фраза *long_phrase* длиннее короткой *short_phrase*. И выводит *True* или *False* в зависимости от результата сравнения."
   ]
  },
  {
   "cell_type": "code",
   "execution_count": 2,
   "metadata": {},
   "outputs": [],
   "source": [
    "long_phrase = 'Насколько проще было бы писать программы, если бы не заказчики'\n",
    "short_phrase = '640Кб должно хватить для любых задач. Билл Гейтс (по легенде)'"
   ]
  },
  {
   "cell_type": "code",
   "execution_count": 3,
   "metadata": {},
   "outputs": [
    {
     "name": "stdout",
     "output_type": "stream",
     "text": [
      "True\n"
     ]
    }
   ],
   "source": [
    "print (long_phrase > short_phrase)"
   ]
  },
  {
   "cell_type": "markdown",
   "metadata": {},
   "source": [
    "**Задание 2**. Дано значение объема файла в байтах (*в мегабайте 2^20 байт*). Напишите перевод этого значения в мегабайты в формате: \"*Объем файла равен 213.68Mb*\"."
   ]
  },
  {
   "cell_type": "code",
   "execution_count": 25,
   "metadata": {},
   "outputs": [
    {
     "name": "stdout",
     "output_type": "stream",
     "text": [
      "Введите объем файла в байтах 20\n",
      "Объем файла равен 60 Mb\n"
     ]
    }
   ],
   "source": [
    "x = int(input('Введите объем файла в байтах '))\n",
    "y = x*2^20\n",
    "print (\"Объем файла равен\" , y , \"Mb\")"
   ]
  },
  {
   "cell_type": "markdown",
   "metadata": {},
   "source": [
    "**Задание 3**. Разработать приложение для определения знака зодиака по дате рождения. Пример:\n",
    "\n",
    "Введите месяц: март\n",
    "\n",
    "Введите число: 6\n",
    "\n",
    "Вывод:\n",
    "Рыбы"
   ]
  },
  {
   "cell_type": "code",
   "execution_count": 24,
   "metadata": {},
   "outputs": [
    {
     "name": "stdout",
     "output_type": "stream",
     "text": [
      "Введите месяц рождения: ноябрь\n",
      "Введите день рождения: 5\n",
      "Вывод: Скорпионушка, прям как ПО\n"
     ]
    }
   ],
   "source": [
    "month = input('Введите месяц рождения: ')\n",
    "date = int(input('Введите день рождения: '))\n",
    "if (1 =< date <= 20 and month == 'апрель') or (31 >=  date > 20 and month == 'март'):\n",
    "        print ('Вывод: Овен')\n",
    "elif (21 <= date <= 31 and month == 'апрель') or (20 >=  date >= 1 and month == 'май'):\n",
    "        print ('Вывод: Телец')\n",
    "elif (21 <= date <= 31 and month == 'май') or (21 >=  date >= 1 and month == 'июнь'):\n",
    "        print ('Вывод: Близнецы')\n",
    "elif (22 <= date <= 30 and month == 'июнь') or (22 >=  date >= 1 and month == 'июль'):\n",
    "        print ('Вывод: Рак')\n",
    "elif (23 <= date <= 31 and month == 'июль') or (22 >=  date >= 1 and month == 'август'):\n",
    "        print ('Вывод: Лев')\n",
    "elif (23 <= date <= 31 and month == 'август') or (22 >=  date >= 1 and month == 'сентябрь'):\n",
    "        print ('Вывод: Дева')\n",
    "elif (23 <= date <= 30 and month == 'сентябрь') or (23 >=  date >= 1 and month == 'октябрь'):\n",
    "        print ('Вывод: Весы')\n",
    "elif (24 <= date <= 31 and month == 'октябрь') or (22 >=  date >= 1 and month == 'ноябрь'):\n",
    "        print ('Вывод: Скорпион')\n",
    "elif (23 <= date <= 30 and month == 'ноябрь') or (21 >=  date >= 1 and month == 'декабрь'):\n",
    "        print ('Вывод: Стрелец')\n",
    "elif (22 <= date <= 31 and month == 'декабрь') or (20 >=  date >= 1 and month == 'январь'):\n",
    "        print ('Вывод: Козерог')\n",
    "elif (21 <= date <= 31 and month == 'январь') or (18 >=  date >= 1 and month == 'февраль'):\n",
    "        print ('Вывод: Водолей')\n",
    "elif (19 <= date <= 29 and month == 'февраль') or (20 >=  date >= 1 and month == 'март'):\n",
    "        print ('Вывод: Рыбы')\n",
    "else:\n",
    "        print ('Некорректный день')"
   ]
  },
  {
   "cell_type": "markdown",
   "metadata": {},
   "source": [
    "**Задание 4**. Нужно разработать приложение для финансового планирования.\n",
    "Приложение учитывает сколько уходит на ипотеку, \"на жизнь\" и сколько нужно отложить на пенсию.\n",
    "Пользователь вводит:\n",
    "- заработанную плату в месяц.\n",
    "- сколько процентов от ЗП уходит на ипотеку.\n",
    "- сколько процентов от ЗП уходит \"на жизнь\".\n",
    "- сколько раз приходит премия в год.\n",
    "\n",
    "Остальная часть заработанной платы откладывается на пенсию.\n",
    "\n",
    "Также пользователю приходит премия в размере зарплаты, от которой половина уходит на отпуск, а вторая половина откладывается.\n",
    "\n",
    "Программа должна учитывать сколько премий было в год.\n",
    "\n",
    "Нужно вывести сколько денег тратит пользователь на ипотеку и сколько он накопит за год.\n",
    "\n",
    "Пример:\n",
    "\n",
    "Введите заработанную плату в месяц: 100000\n",
    "\n",
    "Введите сколько процентов уходит на ипотеку: 30\n",
    "\n",
    "Введите сколько процентов уходит на жизнь: 50\n",
    "\n",
    "Введите количество премий за год: 2\n",
    "\n",
    "Вывод:\n",
    "На ипотеку было потрачено: 360000 рублей\n",
    "Было накоплено: 340000 рублей"
   ]
  },
  {
   "cell_type": "code",
   "execution_count": 34,
   "metadata": {},
   "outputs": [
    {
     "name": "stdout",
     "output_type": "stream",
     "text": [
      "Введите заработанную плату в месяц: 10000\n",
      "Ввкдите сколько процентов уходит на ипотеку: 20\n",
      "Ввкдите сколько процентов уходит на жизнь: 21\n",
      "Введите сколько премий было в год: 2\n",
      "На ипотеку было потрачено: 240000.00000000003 рублей Было накоплено:  80800.0 рублей\n"
     ]
    }
   ],
   "source": [
    "salary_month = int(input('Введите заработанную плату в месяц: '))\n",
    "proc_ipoteka = int(input('Ввкдите сколько процентов уходит на ипотеку: '))\n",
    "proc_life = int(input('Ввкдите сколько процентов уходит на жизнь: '))\n",
    "prem = int(input('Введите сколько премий было в год: '))\n",
    "over = (salary_month * 0.5 * prem) + (12 * salary_month * ((100- proc_ipoteka - proc_life)/100) )\n",
    "ipot = 0.1 * 12 * proc_ipoteka * salary_month\n",
    "print (\"На ипотеку было потрачено:\", ipot , \"рублей Было накоплено: \" , over , \"рублей\")"
   ]
  },
  {
   "cell_type": "code",
   "execution_count": null,
   "metadata": {},
   "outputs": [],
   "source": []
  }
 ],
 "metadata": {
  "kernelspec": {
   "display_name": "Python 3",
   "language": "python",
   "name": "python3"
  },
  "language_info": {
   "codemirror_mode": {
    "name": "ipython",
    "version": 3
   },
   "file_extension": ".py",
   "mimetype": "text/x-python",
   "name": "python",
   "nbconvert_exporter": "python",
   "pygments_lexer": "ipython3",
   "version": "3.7.6"
  }
 },
 "nbformat": 4,
 "nbformat_minor": 2
 
}
